{
 "metadata": {
  "language_info": {
   "codemirror_mode": {
    "name": "ipython",
    "version": 3
   },
   "file_extension": ".py",
   "mimetype": "text/x-python",
   "name": "python",
   "nbconvert_exporter": "python",
   "pygments_lexer": "ipython3",
   "version": "3.9.0-final"
  },
  "orig_nbformat": 2,
  "kernelspec": {
   "name": "python3",
   "display_name": "Python 3"
  }
 },
 "nbformat": 4,
 "nbformat_minor": 2,
 "cells": [
  {
   "cell_type": "code",
   "execution_count": 13,
   "metadata": {},
   "outputs": [],
   "source": [
    "import csv\n",
    "import os\n",
    "import statistics \n",
    "from collections import defaultdict\n",
    "import scipy.stats\n",
    "import operator\n",
    "import pandas as pd\n",
    "import numpy as np\n",
    "import matplotlib.pyplot as plt"
   ]
  },
  {
   "cell_type": "code",
   "execution_count": 14,
   "metadata": {},
   "outputs": [],
   "source": [
    "pathToData2 = os.path.relpath(\n",
    "    \"response_sheet.csv\"\n",
    ")\n",
    "paths = [pathToData2]"
   ]
  },
  {
   "cell_type": "code",
   "execution_count": 15,
   "metadata": {},
   "outputs": [],
   "source": [
    "df=pd.read_csv(pathToData2, names=[\"Timestamp\",\n",
    "    \"Your key\",\n",
    "    \"How familiar are you with the stock market?\",\n",
    "    \"aiStockFinder Ease of Use\",\n",
    "    \"aiStockFinder Do you think the stock data provided was accurate?\",\n",
    "    \"aiStockFinder Were you statisfied with the range of stocks provided?\",\n",
    "    \"aiStockFinder How likely are you to recommend this application to friends?\",\n",
    "    \"walletInvestor Ease of Use\",\n",
    "    \"walletInvestor Do you think the stock data provided was accurate?\",\n",
    "    \"walletInvestor Were you statisfied with the range of stocks provided?\",\n",
    "    \"walletInvestor How likely are you to recommend this application to friends?\",\n",
    "    \"stockGuide Ease of Use\",\n",
    "    \"stockGuide Do you think the stock data provided was accurate?\",\n",
    "    \"stockGuide Were you statisfied with the range of stocks provided?\",\n",
    "    \"stockGuide How likely are you to recommend this application to friends?\"])"
   ]
  },
  {
   "cell_type": "code",
   "execution_count": 16,
   "metadata": {},
   "outputs": [],
   "source": [
    "new_df = pd.DataFrame()\n",
    "new_df[\"Ease\"] = df[\"aiStockFinder Ease of Use\"].astype('category').cat.codes\n",
    "new_df[\"Accuracy\"] = df[\"aiStockFinder Do you think the stock data provided was accurate?\"].astype('category').cat.codes\n",
    "new_df[\"Satisfaction\"] = df[\"aiStockFinder Were you statisfied with the range of stocks provided?\"].astype('category').cat.codes\n",
    "new_df[\"Recommend\"] = df[\"aiStockFinder How likely are you to recommend this application to friends?\"].astype('category').cat.codes\n"
   ]
  },
  {
   "cell_type": "code",
   "execution_count": 17,
   "metadata": {},
   "outputs": [
    {
     "output_type": "stream",
     "name": "stdout",
     "text": [
      "                  Ease  Accuracy  Satisfaction  Recommend\nEase          1.000000 -0.777817        0.0000   0.088388\nAccuracy     -0.777817  1.000000       -0.3000  -0.325000\nSatisfaction  0.000000 -0.300000        1.0000   0.187500\nRecommend     0.088388 -0.325000        0.1875   1.000000\n"
     ]
    }
   ],
   "source": [
    "print(new_df.corr(method='pearson'))"
   ]
  },
  {
   "cell_type": "code",
   "execution_count": 18,
   "metadata": {},
   "outputs": [],
   "source": [
    "new_df1 = pd.DataFrame()\n",
    "new_df1[\"Ease\"] = df[\"walletInvestor Ease of Use\"].astype('category').cat.codes\n",
    "new_df1[\"Accuracy\"] = df[\"walletInvestor Do you think the stock data provided was accurate?\"].astype('category').cat.codes\n",
    "new_df1[\"Satisfaction\"] = df[\"walletInvestor Were you statisfied with the range of stocks provided?\"].astype('category').cat.codes\n",
    "new_df1[\"Recommend\"] = df[\"walletInvestor How likely are you to recommend this application to friends?\"].astype('category').cat.codes"
   ]
  },
  {
   "cell_type": "code",
   "execution_count": 19,
   "metadata": {},
   "outputs": [
    {
     "output_type": "stream",
     "name": "stdout",
     "text": [
      "                 Ease  Accuracy  Satisfaction  Recommend\nEase          1.00000 -0.577350     -0.577350   0.639010\nAccuracy     -0.57735  1.000000      0.000000  -0.751041\nSatisfaction -0.57735  0.000000      1.000000  -0.118585\nRecommend     0.63901 -0.751041     -0.118585   1.000000\n"
     ]
    }
   ],
   "source": [
    "print(new_df1.corr(method='pearson'))"
   ]
  },
  {
   "cell_type": "code",
   "execution_count": 20,
   "metadata": {},
   "outputs": [],
   "source": [
    "new_df2 = pd.DataFrame()\n",
    "new_df2[\"Ease\"] = df[\"stockGuide Ease of Use\"].astype('category').cat.codes\n",
    "new_df2[\"Accuracy\"] = df[\"stockGuide Do you think the stock data provided was accurate?\"].astype('category').cat.codes\n",
    "new_df2[\"Satisfaction\"] = df[\"stockGuide Were you statisfied with the range of stocks provided?\"].astype('category').cat.codes\n",
    "new_df2[\"Recommend\"] = df[\"stockGuide How likely are you to recommend this application to friends?\"].astype('category').cat.codes"
   ]
  },
  {
   "cell_type": "code",
   "execution_count": 21,
   "metadata": {},
   "outputs": [
    {
     "output_type": "stream",
     "name": "stdout",
     "text": [
      "                  Ease  Accuracy  Satisfaction  Recommend\nEase          1.000000 -0.373364     -0.042258   0.310471\nAccuracy     -0.373364  1.000000     -0.160644  -0.243750\nSatisfaction -0.042258 -0.160644      1.000000   0.638877\nRecommend     0.310471 -0.243750      0.638877   1.000000\n"
     ]
    }
   ],
   "source": [
    "print(new_df2.corr(method='pearson'))"
   ]
  },
  {
   "cell_type": "code",
   "execution_count": null,
   "metadata": {},
   "outputs": [],
   "source": []
  }
 ]
}